{
 "cells": [
  {
   "cell_type": "code",
   "execution_count": 4,
   "id": "solved-blind",
   "metadata": {},
   "outputs": [
    {
     "name": "stdout",
     "output_type": "stream",
     "text": [
      "'data.frame':\t214 obs. of  11 variables:\n",
      " $ Id  : int  1 2 3 4 5 6 7 8 9 10 ...\n",
      " $ RI  : num  1.52 1.52 1.52 1.52 1.52 ...\n",
      " $ Na  : num  13.6 13.9 13.5 13.2 13.3 ...\n",
      " $ Mg  : num  4.49 3.6 3.55 3.69 3.62 3.61 3.6 3.61 3.58 3.6 ...\n",
      " $ Al  : num  1.1 1.36 1.54 1.29 1.24 1.62 1.14 1.05 1.37 1.36 ...\n",
      " $ Si  : num  71.8 72.7 73 72.6 73.1 ...\n",
      " $ K   : num  0.06 0.48 0.39 0.57 0.55 0.64 0.58 0.57 0.56 0.57 ...\n",
      " $ Ca  : num  8.75 7.83 7.78 8.22 8.07 8.07 8.17 8.24 8.3 8.4 ...\n",
      " $ Ba  : num  0 0 0 0 0 0 0 0 0 0 ...\n",
      " $ Fe  : num  0 0 0 0 0 0.26 0 0 0 0.11 ...\n",
      " $ Type: Factor w/ 6 levels \"1\",\"2\",\"3\",\"5\",..: 1 1 1 1 1 1 1 1 1 1 ...\n"
     ]
    }
   ],
   "source": [
    "data <- read.csv(\"glass.csv\", sep = \",\", dec = \".\")\n",
    "data$Type <- as.factor(data$Type)\n",
    "str(data)"
   ]
  },
  {
   "cell_type": "code",
   "execution_count": 5,
   "id": "korean-stone",
   "metadata": {},
   "outputs": [
    {
     "data": {
      "text/plain": [
       "       Id               RI              Na              Mg       \n",
       " Min.   :  1.00   Min.   :1.511   Min.   :10.73   Min.   :0.000  \n",
       " 1st Qu.: 54.25   1st Qu.:1.517   1st Qu.:12.91   1st Qu.:2.115  \n",
       " Median :107.50   Median :1.518   Median :13.30   Median :3.480  \n",
       " Mean   :107.50   Mean   :1.518   Mean   :13.41   Mean   :2.685  \n",
       " 3rd Qu.:160.75   3rd Qu.:1.519   3rd Qu.:13.82   3rd Qu.:3.600  \n",
       " Max.   :214.00   Max.   :1.534   Max.   :17.38   Max.   :4.490  \n",
       "       Al              Si              K                Ca        \n",
       " Min.   :0.290   Min.   :69.81   Min.   :0.0000   Min.   : 5.430  \n",
       " 1st Qu.:1.190   1st Qu.:72.28   1st Qu.:0.1225   1st Qu.: 8.240  \n",
       " Median :1.360   Median :72.79   Median :0.5550   Median : 8.600  \n",
       " Mean   :1.445   Mean   :72.65   Mean   :0.4971   Mean   : 8.957  \n",
       " 3rd Qu.:1.630   3rd Qu.:73.09   3rd Qu.:0.6100   3rd Qu.: 9.172  \n",
       " Max.   :3.500   Max.   :75.41   Max.   :6.2100   Max.   :16.190  \n",
       "       Ba              Fe          Type  \n",
       " Min.   :0.000   Min.   :0.00000   1:70  \n",
       " 1st Qu.:0.000   1st Qu.:0.00000   2:76  \n",
       " Median :0.000   Median :0.00000   3:17  \n",
       " Mean   :0.175   Mean   :0.05701   5:13  \n",
       " 3rd Qu.:0.000   3rd Qu.:0.10000   6: 9  \n",
       " Max.   :3.150   Max.   :0.51000   7:29  "
      ]
     },
     "metadata": {},
     "output_type": "display_data"
    }
   ],
   "source": [
    "summary(data)"
   ]
  },
  {
   "cell_type": "code",
   "execution_count": 6,
   "id": "bibliographic-repeat",
   "metadata": {},
   "outputs": [
    {
     "name": "stdout",
     "output_type": "stream",
     "text": [
      "         RI   Al\n",
      "1   1.52101 1.10\n",
      "2   1.51761 1.36\n",
      "3   1.51618 1.54\n",
      "4   1.51766 1.29\n",
      "5   1.51742 1.24\n",
      "6   1.51596 1.62\n",
      "7   1.51743 1.14\n",
      "8   1.51756 1.05\n",
      "9   1.51918 1.37\n",
      "10  1.51755 1.36\n",
      "11  1.51571 1.56\n",
      "12  1.51763 1.27\n",
      "13  1.51589 1.40\n",
      "14  1.51748 1.27\n",
      "15  1.51763 1.31\n",
      "16  1.51761 1.23\n",
      "17  1.51784 1.16\n",
      "18  1.52196 0.89\n",
      "19  1.51911 1.18\n",
      "20  1.51735 1.69\n",
      "21  1.51750 1.49\n",
      "22  1.51966 0.29\n",
      "23  1.51736 1.29\n",
      "24  1.51751 1.35\n",
      "25  1.51720 1.15\n",
      "26  1.51764 1.21\n",
      "27  1.51793 1.41\n",
      "28  1.51721 1.33\n",
      "29  1.51768 1.43\n",
      "30  1.51784 1.28\n",
      "31  1.51768 1.30\n",
      "32  1.51747 1.14\n",
      "33  1.51775 1.23\n",
      "34  1.51753 1.38\n",
      "35  1.51783 1.34\n",
      "36  1.51567 1.21\n",
      "37  1.51909 1.32\n",
      "38  1.51797 1.35\n",
      "39  1.52213 0.47\n",
      "40  1.52213 0.47\n",
      "41  1.51793 1.12\n",
      "42  1.51755 1.20\n",
      "43  1.51779 1.33\n",
      "44  1.52210 0.72\n",
      "45  1.51786 1.19\n",
      "46  1.51900 1.35\n",
      "47  1.51869 1.18\n",
      "48  1.52667 0.71\n",
      "49  1.52223 0.79\n",
      "50  1.51898 1.23\n",
      "51  1.52320 0.51\n",
      "52  1.51926 1.28\n",
      "53  1.51808 1.19\n",
      "54  1.51837 1.28\n",
      "55  1.51778 1.29\n",
      "56  1.51769 1.29\n",
      "57  1.51215 1.12\n",
      "58  1.51824 1.29\n",
      "59  1.51754 1.17\n",
      "60  1.51754 1.19\n",
      "61  1.51905 1.11\n",
      "62  1.51977 1.32\n",
      "63  1.52172 0.88\n",
      "64  1.52227 0.78\n",
      "65  1.52172 0.90\n",
      "66  1.52099 1.12\n",
      "67  1.52152 0.87\n",
      "68  1.52152 0.87\n",
      "69  1.52152 0.90\n",
      "70  1.52300 0.82\n",
      "71  1.51574 1.74\n",
      "72  1.51848 1.27\n",
      "73  1.51593 1.52\n",
      "74  1.51631 1.57\n",
      "75  1.51596 1.54\n",
      "76  1.51590 1.51\n",
      "77  1.51645 1.54\n",
      "78  1.51627 1.54\n",
      "79  1.51613 1.25\n",
      "80  1.51590 1.90\n",
      "81  1.51592 2.12\n",
      "82  1.51593 1.43\n",
      "83  1.51646 1.25\n",
      "84  1.51594 1.55\n",
      "85  1.51409 2.08\n",
      "86  1.51625 1.49\n",
      "87  1.51569 1.47\n",
      "88  1.51645 1.52\n",
      "89  1.51618 1.48\n",
      "90  1.51640 1.87\n",
      "91  1.51841 1.11\n",
      "92  1.51605 1.45\n",
      "93  1.51588 1.58\n",
      "94  1.51590 1.47\n",
      "95  1.51629 1.49\n",
      "96  1.51860 1.43\n",
      "97  1.51841 1.06\n",
      "98  1.51743 1.16\n",
      "99  1.51689 1.71\n",
      "100 1.51811 1.43\n",
      "101 1.51655 1.44\n",
      "102 1.51730 1.63\n",
      "103 1.51820 0.83\n",
      "104 1.52725 0.66\n",
      "105 1.52410 1.17\n",
      "106 1.52475 1.88\n",
      "107 1.53125 2.10\n",
      "108 1.53393 1.00\n",
      "109 1.52222 1.00\n",
      "110 1.51818 0.56\n",
      "111 1.52664 0.77\n",
      "112 1.52739 0.75\n",
      "113 1.52777 0.67\n",
      "114 1.51892 1.26\n",
      "115 1.51847 1.19\n",
      "116 1.51846 1.33\n",
      "117 1.51829 1.41\n",
      "118 1.51708 1.81\n",
      "119 1.51673 1.53\n",
      "120 1.51652 1.47\n",
      "121 1.51844 1.32\n",
      "122 1.51663 1.62\n",
      "123 1.51687 1.48\n",
      "124 1.51707 1.71\n",
      "125 1.52177 1.15\n",
      "126 1.51872 1.56\n",
      "127 1.51667 1.26\n",
      "128 1.52081 1.43\n",
      "129 1.52068 1.67\n",
      "130 1.52020 1.63\n",
      "131 1.52177 1.36\n",
      "132 1.52614 1.36\n",
      "133 1.51813 1.18\n",
      "134 1.51800 1.54\n",
      "135 1.51811 1.25\n",
      "136 1.51789 1.30\n",
      "137 1.51806 1.08\n",
      "138 1.51711 1.57\n",
      "139 1.51674 1.54\n",
      "140 1.51674 1.64\n",
      "141 1.51690 1.61\n",
      "142 1.51851 1.07\n",
      "143 1.51662 1.44\n",
      "144 1.51709 1.79\n",
      "145 1.51660 1.23\n",
      "146 1.51839 1.24\n",
      "147 1.51769 1.11\n",
      "148 1.51610 1.34\n",
      "149 1.51670 1.38\n",
      "150 1.51643 1.35\n",
      "151 1.51665 1.76\n",
      "152 1.52127 0.83\n",
      "153 1.51779 0.65\n",
      "154 1.51610 1.22\n",
      "155 1.51694 1.31\n",
      "156 1.51646 1.26\n",
      "157 1.51655 1.28\n",
      "158 1.52121 0.58\n",
      "159 1.51776 1.52\n",
      "160 1.51796 1.63\n",
      "161 1.51832 1.54\n",
      "162 1.51934 0.75\n",
      "163 1.52211 0.91\n",
      "164 1.51514 3.50\n",
      "165 1.51915 1.86\n",
      "166 1.52171 1.56\n",
      "167 1.52151 1.56\n",
      "168 1.51969 1.65\n",
      "169 1.51666 1.83\n",
      "170 1.51994 1.76\n",
      "171 1.52369 1.58\n",
      "172 1.51316 3.04\n",
      "173 1.51321 3.02\n",
      "174 1.52043 1.40\n",
      "175 1.52058 2.17\n",
      "176 1.52119 1.51\n",
      "177 1.51905 1.56\n",
      "178 1.51937 1.19\n",
      "179 1.51829 1.62\n",
      "180 1.51852 1.66\n",
      "181 1.51299 1.54\n",
      "182 1.51888 1.74\n",
      "183 1.51916 2.09\n",
      "184 1.51969 0.56\n",
      "185 1.51115 0.34\n",
      "186 1.51131 1.81\n",
      "187 1.51838 2.22\n",
      "188 1.52315 1.23\n",
      "189 1.52247 2.06\n",
      "190 1.52365 1.31\n",
      "191 1.51613 1.79\n",
      "192 1.51602 2.38\n",
      "193 1.51623 2.79\n",
      "194 1.51719 2.00\n",
      "195 1.51683 1.98\n",
      "196 1.51545 2.68\n",
      "197 1.51556 2.54\n",
      "198 1.51727 2.34\n",
      "199 1.51531 2.66\n",
      "200 1.51609 2.51\n",
      "201 1.51508 2.25\n",
      "202 1.51653 1.19\n",
      "203 1.51514 2.42\n",
      "204 1.51658 1.99\n",
      "205 1.51617 2.27\n",
      "206 1.51732 1.80\n",
      "207 1.51645 1.87\n",
      "208 1.51831 1.82\n",
      "209 1.51640 2.74\n",
      "210 1.51623 2.88\n",
      "211 1.51685 1.99\n",
      "212 1.52065 2.02\n",
      "213 1.51651 1.94\n",
      "214 1.51711 2.08\n"
     ]
    }
   ],
   "source": [
    "data <- subset(data, select = c(2, 5))\n",
    "data <- na.omit(data)\n",
    "print(data)"
   ]
  },
  {
   "cell_type": "code",
   "execution_count": 7,
   "id": "selected-preference",
   "metadata": {},
   "outputs": [
    {
     "data": {
      "image/png": "[encoded data removed]",
      "text/plain": [
       "plot without title"
      ]
     },
     "metadata": {
      "image/png": {
       "height": 420,
       "width": 420
      }
     },
     "output_type": "display_data"
    }
   ],
   "source": [
    "plot(data$RI, data$Al, col = 'blue')"
   ]
  },
  {
   "cell_type": "code",
   "execution_count": 8,
   "id": "refined-laugh",
   "metadata": {},
   "outputs": [
    {
     "data": {
      "text/plain": [
       "\n",
       "Call:\n",
       "lm(formula = RI ~ Al, data = data)\n",
       "\n",
       "Residuals:\n",
       "       Min         1Q     Median         3Q        Max \n",
       "-0.0099529 -0.0014560 -0.0007427  0.0011155  0.0145076 \n",
       "\n",
       "Coefficients:\n",
       "              Estimate Std. Error  t value Pr(>|t|)    \n",
       "(Intercept)  1.5219453  0.0005831 2610.046  < 2e-16 ***\n",
       "Al          -0.0024776  0.0003815   -6.494 5.85e-10 ***\n",
       "---\n",
       "Signif. codes:  0 '***' 0.001 '**' 0.01 '*' 0.05 '.' 0.1 ' ' 1\n",
       "\n",
       "Residual standard error: 0.00278 on 212 degrees of freedom\n",
       "Multiple R-squared:  0.1659,\tAdjusted R-squared:  0.162 \n",
       "F-statistic: 42.17 on 1 and 212 DF,  p-value: 5.848e-10\n"
      ]
     },
     "metadata": {},
     "output_type": "display_data"
    },
    {
     "data": {
      "image/png": "[encoded data removed]",
      "text/plain": [
       "plot without title"
      ]
     },
     "metadata": {
      "image/png": {
       "height": 420,
       "width": 420
      }
     },
     "output_type": "display_data"
    }
   ],
   "source": [
    "regression <- lm(RI ~ Al, data = data)\n",
    "summary(regression)\n",
    "sub <- paste(\"RI = \", coef(regression)[2], \" * Al + \", coef(regression)[1])\n",
    "plot(data$RI ~ data$Al, col = 'blue', sub = sub)\n",
    "abline(coef(regression))"
   ]
  },
  {
   "cell_type": "code",
   "execution_count": 9,
   "id": "lovely-wales",
   "metadata": {},
   "outputs": [
    {
     "data": {
      "text/html": [
       "<style>\n",
       ".dl-inline {width: auto; margin:0; padding: 0}\n",
       ".dl-inline>dt, .dl-inline>dd {float: none; width: auto; display: inline-block}\n",
       ".dl-inline>dt::after {content: \":\\0020\"; padding-right: .5ex}\n",
       ".dl-inline>dt:not(:first-of-type) {padding-left: .5ex}\n",
       "</style><dl class=dl-inline><dt>(Intercept)</dt><dd>1.52194533023864</dd><dt>Al</dt><dd>-0.00247760638746961</dd></dl>\n"
      ],
      "text/latex": [
       "\\begin{description*}\n",
       "\\item[(Intercept)] 1.52194533023864\n",
       "\\item[Al] -0.00247760638746961\n",
       "\\end{description*}\n"
      ],
      "text/markdown": [
       "(Intercept)\n",
       ":   1.52194533023864Al\n",
       ":   -0.00247760638746961\n",
       "\n"
      ],
      "text/plain": [
       " (Intercept)           Al \n",
       " 1.521945330 -0.002477606 "
      ]
     },
     "metadata": {},
     "output_type": "display_data"
    }
   ],
   "source": [
    "coef(regression)"
   ]
  },
  {
   "cell_type": "code",
   "execution_count": 10,
   "id": "acceptable-crawford",
   "metadata": {},
   "outputs": [
    {
     "data": {
      "text/html": [
       "-0.407326034081393"
      ],
      "text/latex": [
       "-0.407326034081393"
      ],
      "text/markdown": [
       "-0.407326034081393"
      ],
      "text/plain": [
       "[1] -0.407326"
      ]
     },
     "metadata": {},
     "output_type": "display_data"
    }
   ],
   "source": [
    "cor(data$RI, data$Al)"
   ]
  },
  {
   "cell_type": "code",
   "execution_count": 16,
   "id": "fleet-wrestling",
   "metadata": {},
   "outputs": [
    {
     "data": {
      "text/html": [
       "<table class=\"dataframe\">\n",
       "<caption>A matrix: 3 × 4 of type dbl</caption>\n",
       "<thead>\n",
       "\t<tr><th></th><th scope=col>Estimate</th><th scope=col>Std. Error</th><th scope=col>t value</th><th scope=col>Pr(&gt;|t|)</th></tr>\n",
       "</thead>\n",
       "<tbody>\n",
       "\t<tr><th scope=row>(Intercept)</th><td> 1.5239894946</td><td>0.0012107589</td><td>1258.706051</td><td>0.0000000000</td></tr>\n",
       "\t<tr><th scope=row>poly(Al, 2, raw = TRUE)1</th><td>-0.0052205457</td><td>0.0014760352</td><td>  -3.536871</td><td>0.0004977588</td></tr>\n",
       "\t<tr><th scope=row>poly(Al, 2, raw = TRUE)2</th><td> 0.0008215931</td><td>0.0004272842</td><td>   1.922826</td><td>0.0558482485</td></tr>\n",
       "</tbody>\n",
       "</table>\n"
      ],
      "text/latex": [
       "A matrix: 3 × 4 of type dbl\n",
       "\\begin{tabular}{r|llll}\n",
       "  & Estimate & Std. Error & t value & Pr(>\\textbar{}t\\textbar{})\\\\\n",
       "\\hline\n",
       "\t(Intercept) &  1.5239894946 & 0.0012107589 & 1258.706051 & 0.0000000000\\\\\n",
       "\tpoly(Al, 2, raw = TRUE)1 & -0.0052205457 & 0.0014760352 &   -3.536871 & 0.0004977588\\\\\n",
       "\tpoly(Al, 2, raw = TRUE)2 &  0.0008215931 & 0.0004272842 &    1.922826 & 0.0558482485\\\\\n",
       "\\end{tabular}\n"
      ],
      "text/markdown": [
       "\n",
       "A matrix: 3 × 4 of type dbl\n",
       "\n",
       "| <!--/--> | Estimate | Std. Error | t value | Pr(&gt;|t|) |\n",
       "|---|---|---|---|---|\n",
       "| (Intercept) |  1.5239894946 | 0.0012107589 | 1258.706051 | 0.0000000000 |\n",
       "| poly(Al, 2, raw = TRUE)1 | -0.0052205457 | 0.0014760352 |   -3.536871 | 0.0004977588 |\n",
       "| poly(Al, 2, raw = TRUE)2 |  0.0008215931 | 0.0004272842 |    1.922826 | 0.0558482485 |\n",
       "\n"
      ],
      "text/plain": [
       "                         Estimate      Std. Error   t value     Pr(>|t|)    \n",
       "(Intercept)               1.5239894946 0.0012107589 1258.706051 0.0000000000\n",
       "poly(Al, 2, raw = TRUE)1 -0.0052205457 0.0014760352   -3.536871 0.0004977588\n",
       "poly(Al, 2, raw = TRUE)2  0.0008215931 0.0004272842    1.922826 0.0558482485"
      ]
     },
     "metadata": {},
     "output_type": "display_data"
    },
    {
     "data": {
      "image/png": "[encoded data removed]",
      "text/plain": [
       "plot without title"
      ]
     },
     "metadata": {
      "image/png": {
       "height": 420,
       "width": 420
      }
     },
     "output_type": "display_data"
    }
   ],
   "source": [
    "polynomial_regression <- lm(RI ~ poly(Al, 2, raw = TRUE), data = data)\n",
    "coef(summary(polynomial_regression))\n",
    "sub <- paste(\"RI = \", coef(polynomial_regression)[3], \" * Al^2 + \", coef(polynomial_regression)[2],  \" * Al + \",\n",
    "             coef(polynomial_regression)[1])\n",
    "plot(data$RI ~ data$Al, col = 'blue', sub = sub)\n",
    "abline(coef(regression))\n",
    "lines(sort(data$Al), fitted(polynomial_regression)[order(data$Al)], col='red', type='l')"
   ]
  },
  {
   "cell_type": "code",
   "execution_count": null,
   "id": "peaceful-twins",
   "metadata": {},
   "outputs": [],
   "source": []
  }
 ],
 "metadata": {
  "kernelspec": {
   "display_name": "R",
   "language": "R",
   "name": "ir"
  },
  "language_info": {
   "codemirror_mode": "r",
   "file_extension": ".r",
   "mimetype": "text/x-r-source",
   "name": "R",
   "pygments_lexer": "r",
   "version": "4.0.4"
  }
 },
 "nbformat": 4,
 "nbformat_minor": 5
}
