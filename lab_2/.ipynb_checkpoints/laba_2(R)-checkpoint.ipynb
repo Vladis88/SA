{
 "cells": [
  {
   "cell_type": "code",
   "execution_count": 1,
   "id": "physical-confirmation",
   "metadata": {},
   "outputs": [
    {
     "ename": "ERROR",
     "evalue": "Error in na.omit(data_frame): object 'data_frame' not found\n",
     "output_type": "error",
     "traceback": [
      "Error in na.omit(data_frame): object 'data_frame' not found\nTraceback:\n",
      "1. na.omit(data_frame)"
     ]
    }
   ],
   "source": [
    "library(repr)\n",
    "\n",
    "options(repr.plot.width = 16, repr.plot.height = 12)\n",
    "\n",
    "data <- read.csv('glass.csv', sep = ',', dec = '.')\n",
    "\n",
    "data_without_na <- na.omit(data)\n",
    "RI_data <- na.omit(data$RI)\n",
    "Al_data <- na.omit(data$Al)\n",
    "str(RI_data)\n",
    "str(Al_data)"
   ]
  },
  {
   "cell_type": "code",
   "execution_count": 18,
   "id": "amended-functionality",
   "metadata": {},
   "outputs": [
    {
     "data": {
      "image/png": "[encoded data removed]",
      "text/plain": [
       "Plot with title \"Al\""
      ]
     },
     "metadata": {
      "image/png": {
       "height": 720,
       "width": 960
      }
     },
     "output_type": "display_data"
    }
   ],
   "source": [
    "par(mfrow = c(1, 2)) #Place histograms side by side.\n",
    "hist(RI_data, freq = TRUE, right = F, col = 'seagreen', main = 'RI')\n",
    "hist(Al_data, freq = TRUE, right = F, col = 'slateblue1', main = 'Al')"
   ]
  },
  {
   "cell_type": "code",
   "execution_count": 19,
   "id": "swedish-sewing",
   "metadata": {},
   "outputs": [
    {
     "data": {
      "text/html": [
       "<table class=\"dataframe\">\n",
       "<caption>A matrix: 2 × 3 of type dbl</caption>\n",
       "<thead>\n",
       "\t<tr><th></th><th scope=col>Mean value</th><th scope=col>Despersion</th><th scope=col>Standart deviation</th></tr>\n",
       "</thead>\n",
       "<tbody>\n",
       "\t<tr><th scope=row>RI_data</th><td>1.518365</td><td>9.222541e-06</td><td>0.003036864</td></tr>\n",
       "\t<tr><th scope=row>Al_data</th><td>1.444907</td><td>2.492702e-01</td><td>0.499269646</td></tr>\n",
       "</tbody>\n",
       "</table>\n"
      ],
      "text/latex": [
       "A matrix: 2 × 3 of type dbl\n",
       "\\begin{tabular}{r|lll}\n",
       "  & Mean value & Despersion & Standart deviation\\\\\n",
       "\\hline\n",
       "\tRI\\_data & 1.518365 & 9.222541e-06 & 0.003036864\\\\\n",
       "\tAl\\_data & 1.444907 & 2.492702e-01 & 0.499269646\\\\\n",
       "\\end{tabular}\n"
      ],
      "text/markdown": [
       "\n",
       "A matrix: 2 × 3 of type dbl\n",
       "\n",
       "| <!--/--> | Mean value | Despersion | Standart deviation |\n",
       "|---|---|---|---|\n",
       "| RI_data | 1.518365 | 9.222541e-06 | 0.003036864 |\n",
       "| Al_data | 1.444907 | 2.492702e-01 | 0.499269646 |\n",
       "\n"
      ],
      "text/plain": [
       "        Mean value Despersion   Standart deviation\n",
       "RI_data 1.518365   9.222541e-06 0.003036864       \n",
       "Al_data 1.444907   2.492702e-01 0.499269646       "
      ]
     },
     "metadata": {},
     "output_type": "display_data"
    }
   ],
   "source": [
    "statistics_params <- matrix(c(mean(RI_data), mean(Al_data),   #Mean Values\n",
    "                          var(RI_data), var(Al_data),         #Variation or Dispersion \n",
    "                           sd(RI_data), sd(Al_data)), ncol = 3, nrow = 2) #sd -- Standart Deviation\n",
    "\n",
    "colnames(statistics_params) <- c('Mean value', 'Despersion', 'Standart deviation')\n",
    "rownames(statistics_params) <- c('RI_data', 'Al_data')\n",
    "statistics_params"
   ]
  },
  {
   "cell_type": "code",
   "execution_count": 22,
   "id": "russian-diving",
   "metadata": {},
   "outputs": [
    {
     "data": {
      "text/html": [
       "<table class=\"dataframe\">\n",
       "<caption>A matrix: 2 × 3 of type dbl</caption>\n",
       "<thead>\n",
       "\t<tr><th></th><th scope=col>Mean value</th><th scope=col>Lower CI</th><th scope=col>Upper CI</th></tr>\n",
       "</thead>\n",
       "<tbody>\n",
       "\t<tr><th scope=row>RI_data</th><td>1.518365</td><td>1.517956</td><td>1.518775</td></tr>\n",
       "\t<tr><th scope=row>Al_data</th><td>1.444907</td><td>1.377632</td><td>1.512181</td></tr>\n",
       "</tbody>\n",
       "</table>\n"
      ],
      "text/latex": [
       "A matrix: 2 × 3 of type dbl\n",
       "\\begin{tabular}{r|lll}\n",
       "  & Mean value & Lower CI & Upper CI\\\\\n",
       "\\hline\n",
       "\tRI\\_data & 1.518365 & 1.517956 & 1.518775\\\\\n",
       "\tAl\\_data & 1.444907 & 1.377632 & 1.512181\\\\\n",
       "\\end{tabular}\n"
      ],
      "text/markdown": [
       "\n",
       "A matrix: 2 × 3 of type dbl\n",
       "\n",
       "| <!--/--> | Mean value | Lower CI | Upper CI |\n",
       "|---|---|---|---|\n",
       "| RI_data | 1.518365 | 1.517956 | 1.518775 |\n",
       "| Al_data | 1.444907 | 1.377632 | 1.512181 |\n",
       "\n"
      ],
      "text/plain": [
       "        Mean value Lower CI Upper CI\n",
       "RI_data 1.518365   1.517956 1.518775\n",
       "Al_data 1.444907   1.377632 1.512181"
      ]
     },
     "metadata": {},
     "output_type": "display_data"
    },
    {
     "data": {
      "text/html": [
       "<table class=\"dataframe\">\n",
       "<caption>A matrix: 2 × 3 of type dbl</caption>\n",
       "<thead>\n",
       "\t<tr><th></th><th scope=col>Despersion</th><th scope=col>Lower CI</th><th scope=col>Upper CI</th></tr>\n",
       "</thead>\n",
       "<tbody>\n",
       "\t<tr><th scope=row>RI_data</th><td>9.222541e-06</td><td>7.694092e-06</td><td>1.125905e-05</td></tr>\n",
       "\t<tr><th scope=row>Al_data</th><td>2.492702e-01</td><td>2.079587e-01</td><td>3.043137e-01</td></tr>\n",
       "</tbody>\n",
       "</table>\n"
      ],
      "text/latex": [
       "A matrix: 2 × 3 of type dbl\n",
       "\\begin{tabular}{r|lll}\n",
       "  & Despersion & Lower CI & Upper CI\\\\\n",
       "\\hline\n",
       "\tRI\\_data & 9.222541e-06 & 7.694092e-06 & 1.125905e-05\\\\\n",
       "\tAl\\_data & 2.492702e-01 & 2.079587e-01 & 3.043137e-01\\\\\n",
       "\\end{tabular}\n"
      ],
      "text/markdown": [
       "\n",
       "A matrix: 2 × 3 of type dbl\n",
       "\n",
       "| <!--/--> | Despersion | Lower CI | Upper CI |\n",
       "|---|---|---|---|\n",
       "| RI_data | 9.222541e-06 | 7.694092e-06 | 1.125905e-05 |\n",
       "| Al_data | 2.492702e-01 | 2.079587e-01 | 3.043137e-01 |\n",
       "\n"
      ],
      "text/plain": [
       "        Despersion   Lower CI     Upper CI    \n",
       "RI_data 9.222541e-06 7.694092e-06 1.125905e-05\n",
       "Al_data 2.492702e-01 2.079587e-01 3.043137e-01"
      ]
     },
     "metadata": {},
     "output_type": "display_data"
    }
   ],
   "source": [
    "library(DescTools) #Load lib that contains functions for calculating confidence intervals\n",
    "\n",
    "ci_for_means <- matrix(c(MeanCI(RI_data),\n",
    "                         MeanCI(Al_data)), ncol = 3, byrow = TRUE)\n",
    "colnames(ci_for_means) <- c(\"Mean value\", \"Lower CI\", \"Upper CI\")\n",
    "rownames(ci_for_means) <- c(\"RI_data\", \"Al_data\")\n",
    "\n",
    "ci_for_vars <- matrix(c(VarCI(RI_data),\n",
    "                        VarCI(Al_data)), ncol = 3, byrow = TRUE)\n",
    "colnames(ci_for_vars) <- c(\"Despersion\", \"Lower CI\", \"Upper CI\")\n",
    "rownames(ci_for_vars) <- c(\"RI_data\", \"Al_data\")\n",
    "\n",
    "ci_for_means\n",
    "ci_for_vars"
   ]
  },
  {
   "cell_type": "code",
   "execution_count": 23,
   "id": "personal-semester",
   "metadata": {},
   "outputs": [
    {
     "data": {
      "text/html": [
       "<table class=\"dataframe\">\n",
       "<caption>A matrix: 1 × 11 of type chr</caption>\n",
       "<thead>\n",
       "\t<tr><th scope=col>mean_x</th><th scope=col>mean_y</th><th scope=col>m0</th><th scope=col>sd_x</th><th scope=col>sd_y</th><th scope=col>s</th><th scope=col>statistic</th><th scope=col>p.value</th><th scope=col>LCL</th><th scope=col>UCL</th><th scope=col>alternative</th></tr>\n",
       "</thead>\n",
       "<tbody>\n",
       "\t<tr><td>1.51836542056075</td><td>1.44490654205607</td><td>0</td><td>1</td><td>0.883176086632785</td><td>0.0912017379732744</td><td>0.805454809712062</td><td>0.420557273983637</td><td>-0.105293243250404</td><td>0.25221100025975</td><td>two.sided</td></tr>\n",
       "</tbody>\n",
       "</table>\n"
      ],
      "text/latex": [
       "A matrix: 1 × 11 of type chr\n",
       "\\begin{tabular}{lllllllllll}\n",
       " mean\\_x & mean\\_y & m0 & sd\\_x & sd\\_y & s & statistic & p.value & LCL & UCL & alternative\\\\\n",
       "\\hline\n",
       "\t 1.51836542056075 & 1.44490654205607 & 0 & 1 & 0.883176086632785 & 0.0912017379732744 & 0.805454809712062 & 0.420557273983637 & -0.105293243250404 & 0.25221100025975 & two.sided\\\\\n",
       "\\end{tabular}\n"
      ],
      "text/markdown": [
       "\n",
       "A matrix: 1 × 11 of type chr\n",
       "\n",
       "| mean_x | mean_y | m0 | sd_x | sd_y | s | statistic | p.value | LCL | UCL | alternative |\n",
       "|---|---|---|---|---|---|---|---|---|---|---|\n",
       "| 1.51836542056075 | 1.44490654205607 | 0 | 1 | 0.883176086632785 | 0.0912017379732744 | 0.805454809712062 | 0.420557273983637 | -0.105293243250404 | 0.25221100025975 | two.sided |\n",
       "\n"
      ],
      "text/plain": [
       "     mean_x           mean_y           m0 sd_x sd_y             \n",
       "[1,] 1.51836542056075 1.44490654205607 0  1    0.883176086632785\n",
       "     s                  statistic         p.value           LCL               \n",
       "[1,] 0.0912017379732744 0.805454809712062 0.420557273983637 -0.105293243250404\n",
       "     UCL              alternative\n",
       "[1,] 0.25221100025975 two.sided  "
      ]
     },
     "metadata": {},
     "output_type": "display_data"
    }
   ],
   "source": [
    "t.testk <- function(x, y, v_x, v_y, m0 = 0, alpha = 0.05, alternative = 'two.sided') {\n",
    "    mean_x <- mean(x)\n",
    "    mean_y <- mean(y)\n",
    "    \n",
    "    length_x <- length(x)\n",
    "    length_y <- length(y)\n",
    "    \n",
    "    sd_x <- sqrt(v_x)\n",
    "    sd_y <- sqrt(v_y)\n",
    "    \n",
    "    s <- sqrt((v_x / length_x) + (v_y / length_y))\n",
    "    \n",
    "    statistic <- (mean_x - mean_y - m0) / s\n",
    "    \n",
    "    p <- if (alternative == 'two.sided') {\n",
    "        2 * pnorm(abs(statistic), lower.tail = FALSE)\n",
    "    } else if (alternative == 'less') {\n",
    "        pnorm(statistic, lower.tail = TRUE)\n",
    "    } else {\n",
    "        pnorm(statistic, lower.tail = FALSE)\n",
    "    }\n",
    "    \n",
    "    LCL <- (mean_x - mean_y - s * qnorm(1 - alpha / 2))\n",
    "    UCL <- (mean_x - mean_y + s * qnorm(1 - alpha / 2))\n",
    "  \n",
    "    result <- matrix(c(mean_x, mean_y, m0, sd_x, sd_y, s, statistic, p, LCL, UCL, alternative),\n",
    "                     ncol = 11, byrow = TRUE)\n",
    "    colnames(result) <- c('mean_x', 'mean_y', 'm0', 'sd_x', 'sd_y', \n",
    "                          's', 'statistic', 'p.value', 'LCL', 'UCL', 'alternative')\n",
    "    return(result)\n",
    "}\n",
    "\n",
    "t.testk(RI_data, Al_data, 1, 0.78)"
   ]
  },
  {
   "cell_type": "code",
   "execution_count": 24,
   "id": "artificial-victory",
   "metadata": {},
   "outputs": [
    {
     "data": {
      "text/plain": [
       "\n",
       "\tWelch Two Sample t-test\n",
       "\n",
       "data:  RI_data and Al_data\n",
       "t = 2.1523, df = 213.02, p-value = 0.0325\n",
       "alternative hypothesis: true difference in means is not equal to 0\n",
       "95 percent confidence interval:\n",
       " 0.00618308 0.14073468\n",
       "sample estimates:\n",
       "mean of x mean of y \n",
       " 1.518365  1.444907 \n"
      ]
     },
     "metadata": {},
     "output_type": "display_data"
    }
   ],
   "source": [
    "t.test(RI_data, Al_data)"
   ]
  },
  {
   "cell_type": "code",
   "execution_count": null,
   "id": "thousand-latin",
   "metadata": {},
   "outputs": [],
   "source": []
  }
 ],
 "metadata": {
  "kernelspec": {
   "display_name": "R",
   "language": "R",
   "name": "ir"
  },
  "language_info": {
   "codemirror_mode": "r",
   "file_extension": ".r",
   "mimetype": "text/x-r-source",
   "name": "R",
   "pygments_lexer": "r",
   "version": "4.0.4"
  }
 },
 "nbformat": 4,
 "nbformat_minor": 5
}
